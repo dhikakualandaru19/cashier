{
 "cells": [
  {
   "cell_type": "code",
   "execution_count": 374,
   "metadata": {},
   "outputs": [],
   "source": [
    "class Transaction:\n",
    "    def __init__(self):\n",
    "        self.list_produk = []\n",
    "    def add_item(self, item_name, item_qty, price):\n",
    "        try:\n",
    "            self.item_name = str(item_name)\n",
    "            self.item_qty = int(item_qty)\n",
    "            self.price = int(price)\n",
    "        except:\n",
    "            print(\"nama item harus karakter, kuantiti dan harga harus angka\")\n",
    "        else:\n",
    "            self.list_produk.append({\"nama_produk\":self.item_name, \"qty\":self.item_qty, \"harga\":self.price})\n",
    "    def update_item_name(self,item_name, update_item_name):\n",
    "        for produk in self.list_produk:\n",
    "            if produk[\"nama_produk\"] == item_name:\n",
    "                try:\n",
    "                 if isinstance(update_item_name, str):\n",
    "                    produk[\"nama_produk\"] = update_item_name\n",
    "                    print(\"Nama item berhasil diperbarui.\")\n",
    "                 else:\n",
    "                    raise TypeError(\"Nama item harus berupa string.\")\n",
    "                except TypeError as e:\n",
    "                    print(str(e))\n",
    "            return\n",
    "        print(\"Item tidak ditemukan dalam daftar produk.\")\n",
    "    def update_item_qty(self,item_name, update_item_qty):\n",
    "        for produk in self.list_produk:\n",
    "            if produk[\"nama_produk\"] == item_name:\n",
    "                try:\n",
    "                 if isinstance(update_item_qty, int):\n",
    "                    produk[\"qty\"] = update_item_qty\n",
    "                    print(\"item qty berhasil diperbarui.\")\n",
    "                 else:\n",
    "                    raise TypeError(\"item qty harus berupa angka.\")\n",
    "                except TypeError as e:\n",
    "                    print(str(e))\n",
    "            return\n",
    "        print(\"Item tidak ditemukan dalam daftar produk.\")\n",
    "    def update_price(self,item_name, update_price):\n",
    "        for produk in self.list_produk:\n",
    "            if produk[\"nama_produk\"] == item_name:\n",
    "                try:\n",
    "                 if isinstance(update_price, int):\n",
    "                    produk[\"harga\"] = update_price\n",
    "                    print(\"harga berhasil diperbarui.\")\n",
    "                 else:\n",
    "                    raise TypeError(\"harga harus berupa angka.\")\n",
    "                except TypeError as e:\n",
    "                    print(str(e))\n",
    "            return\n",
    "        print(\"Item tidak ditemukan dalam daftar produk.\")\n",
    "    def delete_item(self,item_name):\n",
    "        for i in range(len(self.list_produk)):\n",
    "            if self.list_produk[i][\"nama_produk\"] == item_name:\n",
    "                del self.list_produk[i]\n",
    "                print(\"Item berhasil dihapus dari daftar produk.\")\n",
    "                return\n",
    "        print(\"Item tidak ditemukan dalam daftar produk.\")\n",
    "    def reset_transaction(self):\n",
    "        self.list_produk = []\n",
    "        print(\"keranjang belanja anda kosong\")\n",
    "    def check_order(self):\n",
    "        try:\n",
    "            # Cek kesalahan input\n",
    "            for produk in self.list_produk:\n",
    "             if not isinstance(produk['nama_produk'], str) or not isinstance(produk['qty'], int) or not isinstance(produk['harga'], int):\n",
    "                raise TypeError(\"Terdapat kesalahan input data.\")\n",
    "\n",
    "        # Tampilkan pesan pemesanan sudah benar\n",
    "            print(\"Cek kembali pesanan anda.\")\n",
    "\n",
    "        # Tampilkan daftar transaksi\n",
    "            print(\"| No |     Nama Item        | Jumlah Item | Harga/Item | Total Harga |\")\n",
    "            print(\"|----|----------------------|-------------|------------|-------------|\")\n",
    "            for i, produk in enumerate(self.list_produk, 1):\n",
    "                total_harga = produk['qty'] * produk['harga']\n",
    "                print(f\"| {i:<2} | {produk['nama_produk']:<20} | {produk['qty']:<11} | {produk['harga']:<10} | {total_harga:<11} |\")\n",
    "        except TypeError as e:\n",
    "            print(str(e))\n",
    "    def check_out(self):\n",
    "        total_harga = 0\n",
    "        for produk in self.list_produk:\n",
    "            total_harga += produk['qty'] * produk['harga']\n",
    "\n",
    "        print(\"Total Pembelian:\", total_harga)\n",
    "    \n",
    "        if total_harga > 500000:\n",
    "            diskon = 0.07\n",
    "        elif total_harga > 300000:\n",
    "            diskon = 0.06\n",
    "        elif total_harga > 200000:\n",
    "            diskon = 0.05\n",
    "        else:\n",
    "            diskon = 0\n",
    "\n",
    "        if diskon > 0:\n",
    "            total_diskon = total_harga * diskon\n",
    "            total_bayar = total_harga - total_diskon\n",
    "            print(\"Diskon:\", diskon * 100, \"%\")\n",
    "            print(\"Total Bayar setelah Diskon:\", total_bayar)\n",
    "        else:\n",
    "            print(\"Tidak ada diskon yang diberikan.\")"
   ]
  },
  {
   "cell_type": "code",
   "execution_count": 376,
   "metadata": {},
   "outputs": [],
   "source": [
    "cart1 = Transaction()"
   ]
  },
  {
   "cell_type": "code",
   "execution_count": 377,
   "metadata": {},
   "outputs": [],
   "source": [
    "cart1.add_item('ayam goreng mantap',3, 10000)\n",
    "cart1.add_item('nasi goreng mafia',1, 20000)\n",
    "cart1.add_item('nasi goreng',1, 20000)\n",
    "cart1.add_item('ayam bakar',1, 20000)\n",
    "cart1.add_item('nasi',1, 5000)"
   ]
  },
  {
   "cell_type": "code",
   "execution_count": 378,
   "metadata": {},
   "outputs": [],
   "source": [
    "cart1.add_item('nasi goreng  mafia',1, 20000)"
   ]
  },
  {
   "cell_type": "code",
   "execution_count": 379,
   "metadata": {},
   "outputs": [
    {
     "name": "stdout",
     "output_type": "stream",
     "text": [
      "[{'nama_produk': 'ayam goreng mantap', 'qty': 3, 'harga': 10000}, {'nama_produk': 'nasi goreng mafia', 'qty': 1, 'harga': 20000}, {'nama_produk': 'nasi goreng', 'qty': 1, 'harga': 20000}, {'nama_produk': 'ayam bakar', 'qty': 1, 'harga': 20000}, {'nama_produk': 'nasi', 'qty': 1, 'harga': 5000}, {'nama_produk': 'nasi goreng  mafia', 'qty': 1, 'harga': 20000}]\n"
     ]
    }
   ],
   "source": [
    "print(cart1.list_produk)"
   ]
  },
  {
   "cell_type": "code",
   "execution_count": 381,
   "metadata": {},
   "outputs": [
    {
     "name": "stdout",
     "output_type": "stream",
     "text": [
      "Total Pembelian: 115000\n",
      "Tidak ada diskon yang diberikan.\n"
     ]
    }
   ],
   "source": [
    "cart1.check_out()"
   ]
  },
  {
   "cell_type": "code",
   "execution_count": 219,
   "metadata": {},
   "outputs": [
    {
     "name": "stdout",
     "output_type": "stream",
     "text": [
      "keranjang belanja anda kosong\n"
     ]
    }
   ],
   "source": [
    "cart1.reset_transaction()"
   ]
  }
 ],
 "metadata": {
  "kernelspec": {
   "display_name": "Python 3",
   "language": "python",
   "name": "python3"
  },
  "language_info": {
   "codemirror_mode": {
    "name": "ipython",
    "version": 3
   },
   "file_extension": ".py",
   "mimetype": "text/x-python",
   "name": "python",
   "nbconvert_exporter": "python",
   "pygments_lexer": "ipython3",
   "version": "3.9.7"
  },
  "orig_nbformat": 4
 },
 "nbformat": 4,
 "nbformat_minor": 2
}
